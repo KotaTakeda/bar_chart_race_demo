{
  "nbformat": 4,
  "nbformat_minor": 0,
  "metadata": {
    "colab": {
      "name": "bar_chart_race.ipynb",
      "provenance": [],
      "collapsed_sections": [],
      "mount_file_id": "1AVzs3gC3Q8gSNrf4BbC4BPnyRXYbFDTi",
      "authorship_tag": "ABX9TyOuLS+K7z36XZoakGexg5bf",
      "include_colab_link": true
    },
    "kernelspec": {
      "name": "python3",
      "display_name": "Python 3"
    },
    "language_info": {
      "name": "python"
    }
  },
  "cells": [
    {
      "cell_type": "markdown",
      "metadata": {
        "id": "view-in-github",
        "colab_type": "text"
      },
      "source": [
        "<a href=\"https://colab.research.google.com/github/KotaTakeda/bar_chart_race_demo/blob/main/demo.ipynb\" target=\"_parent\"><img src=\"https://colab.research.google.com/assets/colab-badge.svg\" alt=\"Open In Colab\"/></a>"
      ]
    },
    {
      "cell_type": "markdown",
      "metadata": {
        "id": "iPryVcGcwlso"
      },
      "source": [
        "# ランキング変動の可視化\n",
        "`bar_chart_race`というライブラリでランキングが時間変化する動画を作る．\n",
        "`README`に書いてる内容で削除されている機能があるので注意．\n",
        "\n",
        "## 参考\n",
        "- [dexplot/bar_chart_race](https://github.com/dexplo/bar_chart_race)\n",
        "- [Bar Chart Race Official Document](https://www.dexplo.org/bar_chart_race)"
      ]
    },
    {
      "cell_type": "code",
      "metadata": {
        "id": "ohbyRKPbupQ2",
        "colab": {
          "base_uri": "https://localhost:8080/"
        },
        "outputId": "3c1c1c5c-a63a-4b3b-dbf4-e33e41449f9b"
      },
      "source": [
        "!pip install bar_chart_race"
      ],
      "execution_count": null,
      "outputs": [
        {
          "output_type": "stream",
          "text": [
            "Requirement already satisfied: bar_chart_race in /usr/local/lib/python3.7/dist-packages (0.1.0)\n",
            "Requirement already satisfied: pandas>=0.24 in /usr/local/lib/python3.7/dist-packages (from bar_chart_race) (1.1.5)\n",
            "Requirement already satisfied: matplotlib>=3.1 in /usr/local/lib/python3.7/dist-packages (from bar_chart_race) (3.2.2)\n",
            "Requirement already satisfied: python-dateutil>=2.1 in /usr/local/lib/python3.7/dist-packages (from matplotlib>=3.1->bar_chart_race) (2.8.2)\n",
            "Requirement already satisfied: cycler>=0.10 in /usr/local/lib/python3.7/dist-packages (from matplotlib>=3.1->bar_chart_race) (0.10.0)\n",
            "Requirement already satisfied: pyparsing!=2.0.4,!=2.1.2,!=2.1.6,>=2.0.1 in /usr/local/lib/python3.7/dist-packages (from matplotlib>=3.1->bar_chart_race) (2.4.7)\n",
            "Requirement already satisfied: numpy>=1.11 in /usr/local/lib/python3.7/dist-packages (from matplotlib>=3.1->bar_chart_race) (1.19.5)\n",
            "Requirement already satisfied: kiwisolver>=1.0.1 in /usr/local/lib/python3.7/dist-packages (from matplotlib>=3.1->bar_chart_race) (1.3.1)\n",
            "Requirement already satisfied: six in /usr/local/lib/python3.7/dist-packages (from cycler>=0.10->matplotlib>=3.1->bar_chart_race) (1.15.0)\n",
            "Requirement already satisfied: pytz>=2017.2 in /usr/local/lib/python3.7/dist-packages (from pandas>=0.24->bar_chart_race) (2018.9)\n"
          ],
          "name": "stdout"
        }
      ]
    },
    {
      "cell_type": "code",
      "metadata": {
        "id": "wdOqpF3nxPJn"
      },
      "source": [
        "import pandas as pd\n",
        "import numpy as np\n",
        "import bar_chart_race as bcr"
      ],
      "execution_count": null,
      "outputs": []
    },
    {
      "cell_type": "markdown",
      "metadata": {
        "id": "H60rGZuLC3K-"
      },
      "source": [
        "## 1. Quick Start\n",
        "ライブラリに付属したサンプルデータから動画を作成する．"
      ]
    },
    {
      "cell_type": "code",
      "metadata": {
        "id": "kohG-gqVDO71"
      },
      "source": [
        "# covid19データは欠損値がある\n",
        "data_covid19 = bcr.load_dataset(name='covid19')\n",
        "print(f'shape: {data_covid19.shape}')\n",
        "\n",
        "df_covid19 = pd.DataFrame(data=data_covid19)\n",
        "df_covid19.head()"
      ],
      "execution_count": null,
      "outputs": []
    },
    {
      "cell_type": "code",
      "metadata": {
        "id": "Lex0b3Q4DTMM"
      },
      "source": [
        "# 動画作成\n",
        "bcr.bar_chart_race(df = df_covid19)"
      ],
      "execution_count": null,
      "outputs": []
    },
    {
      "cell_type": "markdown",
      "metadata": {
        "id": "VWcGn6Tgx0bq"
      },
      "source": [
        "## 2. 自作データ\n",
        "\n",
        "### 2-1. 擬似データを作成"
      ]
    },
    {
      "cell_type": "code",
      "metadata": {
        "colab": {
          "base_uri": "https://localhost:8080/",
          "height": 242
        },
        "id": "y-yUo9bXxhm9",
        "outputId": "25c57bdb-bbf1-4779-fc1c-b81bc42e0e2d"
      },
      "source": [
        "# 設定\n",
        "years = np.arange(2000, 2021)\n",
        "langs = ['Python', 'Ruby', 'Java', 'C', 'Julia', 'Go', 'Javascript', 'Matlab', 'C++', 'C#', 'Fortran', 'PHP', 'Kotlin', 'Swift']\n",
        "\n",
        "# データ生成\n",
        "# 細かい説明は省略\n",
        "num_years = len(years)\n",
        "num_langs = len(langs)\n",
        "\n",
        "lang_share = np.random.rand(num_years, num_langs)**2\n",
        "lang_share += np.random.rand(num_langs)**2\n",
        "lang_share[:, 0] += 0.5\n",
        "lang_share = lang_share.cumsum(axis=0)\n",
        "\n",
        "df_lang = pd.DataFrame(data=lang_share, index=years, columns=langs)\n",
        "df_lang = (df_lang.T / df_lang.sum(axis = 1)).T\n",
        "df_lang = (df_lang * 100).round(2)\n",
        "\n",
        "print(f'shape: {df_lang.shape}')\n",
        "print(lang_share.max())\n",
        "df_lang.head()"
      ],
      "execution_count": null,
      "outputs": [
        {
          "output_type": "stream",
          "text": [
            "shape: (21, 14)\n",
            "30.2020388385738\n"
          ],
          "name": "stdout"
        },
        {
          "output_type": "execute_result",
          "data": {
            "text/html": [
              "<div>\n",
              "<style scoped>\n",
              "    .dataframe tbody tr th:only-of-type {\n",
              "        vertical-align: middle;\n",
              "    }\n",
              "\n",
              "    .dataframe tbody tr th {\n",
              "        vertical-align: top;\n",
              "    }\n",
              "\n",
              "    .dataframe thead th {\n",
              "        text-align: right;\n",
              "    }\n",
              "</style>\n",
              "<table border=\"1\" class=\"dataframe\">\n",
              "  <thead>\n",
              "    <tr style=\"text-align: right;\">\n",
              "      <th></th>\n",
              "      <th>Python</th>\n",
              "      <th>Ruby</th>\n",
              "      <th>Java</th>\n",
              "      <th>C</th>\n",
              "      <th>Julia</th>\n",
              "      <th>Go</th>\n",
              "      <th>Javascript</th>\n",
              "      <th>Matlab</th>\n",
              "      <th>C++</th>\n",
              "      <th>C#</th>\n",
              "      <th>Fortran</th>\n",
              "      <th>PHP</th>\n",
              "      <th>Kotlin</th>\n",
              "      <th>Swift</th>\n",
              "    </tr>\n",
              "  </thead>\n",
              "  <tbody>\n",
              "    <tr>\n",
              "      <th>2000</th>\n",
              "      <td>14.32</td>\n",
              "      <td>14.71</td>\n",
              "      <td>0.93</td>\n",
              "      <td>7.31</td>\n",
              "      <td>11.97</td>\n",
              "      <td>5.54</td>\n",
              "      <td>2.15</td>\n",
              "      <td>0.94</td>\n",
              "      <td>11.46</td>\n",
              "      <td>6.58</td>\n",
              "      <td>10.39</td>\n",
              "      <td>0.93</td>\n",
              "      <td>10.76</td>\n",
              "      <td>2.01</td>\n",
              "    </tr>\n",
              "    <tr>\n",
              "      <th>2001</th>\n",
              "      <td>17.95</td>\n",
              "      <td>12.67</td>\n",
              "      <td>5.45</td>\n",
              "      <td>6.39</td>\n",
              "      <td>11.69</td>\n",
              "      <td>7.49</td>\n",
              "      <td>5.05</td>\n",
              "      <td>2.52</td>\n",
              "      <td>7.55</td>\n",
              "      <td>3.27</td>\n",
              "      <td>6.65</td>\n",
              "      <td>4.07</td>\n",
              "      <td>7.67</td>\n",
              "      <td>1.58</td>\n",
              "    </tr>\n",
              "    <tr>\n",
              "      <th>2002</th>\n",
              "      <td>17.47</td>\n",
              "      <td>14.96</td>\n",
              "      <td>4.37</td>\n",
              "      <td>6.52</td>\n",
              "      <td>9.88</td>\n",
              "      <td>6.84</td>\n",
              "      <td>3.55</td>\n",
              "      <td>4.14</td>\n",
              "      <td>9.91</td>\n",
              "      <td>2.30</td>\n",
              "      <td>6.16</td>\n",
              "      <td>4.51</td>\n",
              "      <td>7.59</td>\n",
              "      <td>1.82</td>\n",
              "    </tr>\n",
              "    <tr>\n",
              "      <th>2003</th>\n",
              "      <td>16.74</td>\n",
              "      <td>14.73</td>\n",
              "      <td>4.46</td>\n",
              "      <td>8.38</td>\n",
              "      <td>7.69</td>\n",
              "      <td>6.26</td>\n",
              "      <td>2.65</td>\n",
              "      <td>5.01</td>\n",
              "      <td>9.35</td>\n",
              "      <td>2.73</td>\n",
              "      <td>4.79</td>\n",
              "      <td>6.21</td>\n",
              "      <td>6.76</td>\n",
              "      <td>4.26</td>\n",
              "    </tr>\n",
              "    <tr>\n",
              "      <th>2004</th>\n",
              "      <td>16.47</td>\n",
              "      <td>14.05</td>\n",
              "      <td>5.96</td>\n",
              "      <td>8.45</td>\n",
              "      <td>6.29</td>\n",
              "      <td>7.77</td>\n",
              "      <td>4.36</td>\n",
              "      <td>6.05</td>\n",
              "      <td>8.03</td>\n",
              "      <td>2.17</td>\n",
              "      <td>4.34</td>\n",
              "      <td>5.83</td>\n",
              "      <td>6.29</td>\n",
              "      <td>3.95</td>\n",
              "    </tr>\n",
              "  </tbody>\n",
              "</table>\n",
              "</div>"
            ],
            "text/plain": [
              "      Python   Ruby  Java     C  Julia  ...    C#  Fortran   PHP  Kotlin  Swift\n",
              "2000   14.32  14.71  0.93  7.31  11.97  ...  6.58    10.39  0.93   10.76   2.01\n",
              "2001   17.95  12.67  5.45  6.39  11.69  ...  3.27     6.65  4.07    7.67   1.58\n",
              "2002   17.47  14.96  4.37  6.52   9.88  ...  2.30     6.16  4.51    7.59   1.82\n",
              "2003   16.74  14.73  4.46  8.38   7.69  ...  2.73     4.79  6.21    6.76   4.26\n",
              "2004   16.47  14.05  5.96  8.45   6.29  ...  2.17     4.34  5.83    6.29   3.95\n",
              "\n",
              "[5 rows x 14 columns]"
            ]
          },
          "metadata": {},
          "execution_count": 105
        }
      ]
    },
    {
      "cell_type": "markdown",
      "metadata": {
        "id": "RilpxTMf1AEx"
      },
      "source": [
        "### 2-2. 動画作成"
      ]
    },
    {
      "cell_type": "code",
      "metadata": {
        "id": "KV6H6JtHzedD"
      },
      "source": [
        "# filenameを指定すると保存される．Noneだと出力される．\n",
        "filename = None # or \"path/to/dir/filename.mp4\""
      ],
      "execution_count": null,
      "outputs": []
    },
    {
      "cell_type": "code",
      "metadata": {
        "id": "i6PREPoT1f5d"
      },
      "source": [
        "# 動画生成\n",
        "# 注意：言語シェア率の表示fmtを指定できない．\n",
        "bcr.bar_chart_race(df = df_lang, title = \"Language Share Growth (Pseudo Data)\", filename=filename, n_bars=10,\n",
        "                   cmap='accent', bar_kwargs={'alpha': .2, 'ec': 'black'}, period_fmt='{x: .0f}', )"
      ],
      "execution_count": null,
      "outputs": []
    }
  ]
}